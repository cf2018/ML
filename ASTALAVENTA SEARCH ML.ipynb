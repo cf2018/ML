{
 "cells": [
  {
   "cell_type": "code",
   "execution_count": null,
   "metadata": {},
   "outputs": [],
   "source": [
    "import requests\n",
    "import simplejson\n",
    "import unidecode\n",
    "import operator\n",
    "import json\n",
    "import sys\n",
    "from IPython.core.display import display, HTML\n",
    "import pandas as pd\n",
    "from collections import OrderedDict\n",
    "from datetime import date\n",
    "import random\n",
    "from ml import *\n",
    "\n",
    "###############PARAMETERS#######################################################\n",
    "lines = ['tapa inodoro']\n",
    "#example lines = ['ps4','led','tv']\n",
    "\n",
    "facturation = 50000 # only show price * quantity > facturation\n",
    "sell_condition = 'new'\n",
    "#############END PARAMETERS#####################################################\n",
    "\n",
    "\n",
    "pd.set_option('display.max_colwidth', None)\n",
    "display.border = 2\n",
    "df_final = pd.DataFrame.from_dict([])\n",
    "category = 'MLA1071'  # juegos y juguetes\n",
    "categories =  { \"id\": \"MLA5725\", \"name\": \"Accesorios para Vehículos\" }, { \"id\": \"MLA1403\", \"name\": \"Alimentos y Bebidas\" }, { \"id\": \"MLA1071\", \"name\": \"Animales y Mascotas\" }, { \"id\": \"MLA1367\", \"name\": \"Antigüedades\" }, { \"id\": \"MLA1368\", \"name\": \"Arte y Artesanías\" }, { \"id\": \"MLA1743\", \"name\": \"Autos, Motos y Otros\" }, { \"id\": \"MLA1384\", \"name\": \"Bebés\" }, { \"id\": \"MLA1246\", \"name\": \"Belleza y Cuidado Personal\" }, { \"id\": \"MLA1039\", \"name\": \"Cámaras y Accesorios\" }, { \"id\": \"MLA1051\", \"name\": \"Celulares y Teléfonos\" }, { \"id\": \"MLA1798\", \"name\": \"Coleccionables y Hobbies\" }, { \"id\": \"MLA1648\", \"name\": \"Computación\" }, { \"id\": \"MLA1144\", \"name\": \"Consolas y Videojuegos\" }, { \"id\": \"MLA1276\", \"name\": \"Deportes y Fitness\" }, { \"id\": \"MLA5726\", \"name\": \"Electrodomésticos y Aires Ac.\" }, { \"id\": \"MLA1000\", \"name\": \"Electrónica, Audio y Video\" }, { \"id\": \"MLA2547\", \"name\": \"Entradas para Eventos\" }, { \"id\": \"MLA407134\", \"name\": \"Herramientas y Construcción\" }, { \"id\": \"MLA1574\", \"name\": \"Hogar, Muebles y Jardín\" }, { \"id\": \"MLA1499\", \"name\": \"Industrias y Oficinas\" }, { \"id\": \"MLA1459\", \"name\": \"Inmuebles\" }, { \"id\": \"MLA1182\", \"name\": \"Instrumentos Musicales\" }, { \"id\": \"MLA3937\", \"name\": \"Joyas y Relojes\" }, { \"id\": \"MLA1132\", \"name\": \"Juegos y Juguetes\" }, { \"id\": \"MLA3025\", \"name\": \"Libros, Revistas y Comics\" }, { \"id\": \"MLA1168\", \"name\": \"Música, Películas y Series\" }, { \"id\": \"MLA1430\", \"name\": \"Ropa y Accesorios\" }, { \"id\": \"MLA409431\", \"name\": \"Salud y Equipamiento Médico\" }, { \"id\": \"MLA1540\", \"name\": \"Servicios\" }, { \"id\": \"MLA1953\", \"name\": \"Otras categorías\"}\n"
   ]
  },
  {
   "cell_type": "code",
   "execution_count": null,
   "metadata": {},
   "outputs": [],
   "source": [
    "#list1 = search_mla_return_list('funda reforzara',500,1000,'MLA1051')\n",
    "#df = pd.DataFrame(list1)\n",
    "#df[0:5]"
   ]
  },
  {
   "cell_type": "markdown",
   "metadata": {},
   "source": [
    "https://api.mercadolibre.com/sites/MLA/categories\n",
    "https://api.mercadolibre.com/sites/MLA/search?q=fabrica&category=MLA1403"
   ]
  },
  {
   "cell_type": "code",
   "execution_count": null,
   "metadata": {
    "scrolled": true
   },
   "outputs": [],
   "source": [
    "\n",
    "\n",
    "min_price_list = (1,2000,10000)#,3000,8000,16000)\n",
    "max_price_list = (2000,10000,20000)#,3000,8000,16000,240000)\n",
    "\n",
    "\n",
    "for num in range(0,len(list(lines))):\n",
    "    product = lines[num]\n",
    "    for category in categories:\n",
    "        print(product,\" category : \",category['name']) # PRODUCT NAME SEARCHED\n",
    "        df_temp = display_product(product,min_price_list,max_price_list,sell_condition,0,category['id'],facturation)\n",
    "        if (len(df_temp)>0):\n",
    "            df_final = pd.concat([df_final, df_temp], axis=0 ,ignore_index=True)\n",
    "            #df_final = df_final.append(df_temp)\n",
    "        if ( len(df_final) == 0):\n",
    "            df_final = df_temp\n",
    "        print (\"df_final length is :\",len(df_final))\n",
    "        df_final.to_csv('df_final.csv')\n",
    "\n",
    "# dropping duplicates  \n",
    "try: \n",
    "    df_final = df_final.drop_duplicates('permalink')\n",
    "    print('Dropped duplicates Ok')\n",
    "except:\n",
    "    pass"
   ]
  },
  {
   "cell_type": "code",
   "execution_count": null,
   "metadata": {},
   "outputs": [],
   "source": [
    "# show how many found\n",
    "print (\"Total articles found : \",len(df_final), \"when price*quantity > \",facturation)"
   ]
  },
  {
   "cell_type": "code",
   "execution_count": null,
   "metadata": {},
   "outputs": [],
   "source": [
    "# retrieve precise sold quantity ( api rounds to minimum. ex : 70000 rounds to 5000 )\n",
    "# each article takes 1 second\n",
    "#df_final['sold_quantity'] = df_final.apply(lambda row: retrieve_sold_from_link(row['permalink']) , axis=1)\n",
    "# SKIP IF PRECISE INFO IS NOT NEEDED"
   ]
  },
  {
   "cell_type": "code",
   "execution_count": null,
   "metadata": {},
   "outputs": [],
   "source": [
    "df_final['total'] = df_final['price'] * df_final['sold_quantity']"
   ]
  },
  {
   "cell_type": "code",
   "execution_count": null,
   "metadata": {},
   "outputs": [],
   "source": [
    "display(HTML(df_final.loc[:, ['title', 'price','sold_quantity','total','state','city','thumbnail','permalink','seller_id','free_shipping']].sort_values('total',ascending=False).to_html(border=1, escape=False ,formatters=dict(thumbnail=path_to_image_html,permalink=path_to_link_html))))\n",
    " "
   ]
  }
 ],
 "metadata": {
  "kernelspec": {
   "display_name": "Python 3",
   "language": "python",
   "name": "python3"
  },
  "language_info": {
   "codemirror_mode": {
    "name": "ipython",
    "version": 3
   },
   "file_extension": ".py",
   "mimetype": "text/x-python",
   "name": "python",
   "nbconvert_exporter": "python",
   "pygments_lexer": "ipython3",
   "version": "3.10.6"
  }
 },
 "nbformat": 4,
 "nbformat_minor": 2
}
